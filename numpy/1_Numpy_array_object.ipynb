{
  "nbformat": 4,
  "nbformat_minor": 0,
  "metadata": {
    "colab": {
      "name": "1_Numpy_array_object.ipynb",
      "provenance": [],
      "include_colab_link": true
    },
    "kernelspec": {
      "display_name": "Python 3",
      "language": "python",
      "name": "python3"
    }
  },
  "cells": [
    {
      "cell_type": "markdown",
      "metadata": {
        "id": "view-in-github",
        "colab_type": "text"
      },
      "source": [
        "<a href=\"https://colab.research.google.com/github/bibekuchiha/Python-for-Data-Science---functions/blob/master/numpy/1_Numpy_array_object.ipynb\" target=\"_parent\"><img src=\"https://colab.research.google.com/assets/colab-badge.svg\" alt=\"Open In Colab\"/></a>"
      ]
    },
    {
      "cell_type": "markdown",
      "metadata": {
        "id": "F9MJmcoJ5KBl",
        "colab_type": "text"
      },
      "source": [
        "# The Numpy array object"
      ]
    },
    {
      "cell_type": "markdown",
      "metadata": {
        "id": "_W1FTSgc5KBp",
        "colab_type": "text"
      },
      "source": [
        "# NumPy Arrays"
      ]
    },
    {
      "cell_type": "markdown",
      "metadata": {
        "id": "Iw1S7Yvv5KBs",
        "colab_type": "text"
      },
      "source": [
        "**python objects:** \n",
        "\n",
        "1. high-level number objects: integers, floating point\n",
        "2. containers: lists (costless insertion and append), dictionaries (fast lookup)"
      ]
    },
    {
      "cell_type": "markdown",
      "metadata": {
        "id": "M_wtB2DN5KBu",
        "colab_type": "text"
      },
      "source": [
        "**Numpy provides:**\n",
        "\n",
        "1. extension package to Python for multi-dimensional arrays\n",
        "2. closer to hardware (efficiency)\n",
        "3. designed for scientific computation (convenience)\n",
        "4. Also known as array oriented computing"
      ]
    },
    {
      "cell_type": "code",
      "metadata": {
        "id": "M7o8-MYe5KBw",
        "colab_type": "code",
        "outputId": "779cd837-2745-483d-b3bd-d0a9d71919be",
        "colab": {
          "base_uri": "https://localhost:8080/",
          "height": 52
        }
      },
      "source": [
        "import numpy as np\n",
        "a = np.array([0, 1, 2, 3])\n",
        "print(a)\n",
        "\n",
        "print(np.arange(10))"
      ],
      "execution_count": 0,
      "outputs": [
        {
          "output_type": "stream",
          "text": [
            "[0 1 2 3]\n",
            "[0 1 2 3 4 5 6 7 8 9]\n"
          ],
          "name": "stdout"
        }
      ]
    },
    {
      "cell_type": "markdown",
      "metadata": {
        "id": "BjqwPMHc5KB_",
        "colab_type": "text"
      },
      "source": [
        "**Why it is useful:** Memory-efficient container that provides fast numerical operations."
      ]
    },
    {
      "cell_type": "code",
      "metadata": {
        "id": "vyVPcXHk5KCA",
        "colab_type": "code",
        "outputId": "aa766ef8-595b-443c-85a4-173ea66ccca9",
        "colab": {
          "base_uri": "https://localhost:8080/",
          "height": 34
        }
      },
      "source": [
        "#python lists\n",
        "L = range(1000)\n",
        "%timeit [i**2 for i in L]"
      ],
      "execution_count": 0,
      "outputs": [
        {
          "output_type": "stream",
          "text": [
            "1000 loops, best of 3: 255 µs per loop\n"
          ],
          "name": "stdout"
        }
      ]
    },
    {
      "cell_type": "code",
      "metadata": {
        "id": "1gUw8VoU5KCG",
        "colab_type": "code",
        "outputId": "1cb6d409-37f3-4412-9249-9be14f35a691",
        "colab": {
          "base_uri": "https://localhost:8080/",
          "height": 52
        }
      },
      "source": [
        "a = np.arange(1000)\n",
        "%timeit a**2"
      ],
      "execution_count": 0,
      "outputs": [
        {
          "output_type": "stream",
          "text": [
            "The slowest run took 25.12 times longer than the fastest. This could mean that an intermediate result is being cached.\n",
            "1000000 loops, best of 3: 1.35 µs per loop\n"
          ],
          "name": "stdout"
        }
      ]
    },
    {
      "cell_type": "markdown",
      "metadata": {
        "id": "OASYSloj5KCM",
        "colab_type": "text"
      },
      "source": [
        "# 1. Creating arrays"
      ]
    },
    {
      "cell_type": "markdown",
      "metadata": {
        "id": "duovuzMA5KCO",
        "colab_type": "text"
      },
      "source": [
        "** 1.1.  Manual Construction of arrays**"
      ]
    },
    {
      "cell_type": "code",
      "metadata": {
        "id": "NPGF-D0C5KCQ",
        "colab_type": "code",
        "outputId": "e93c76f4-6ef0-4608-de63-71b10569494e",
        "colab": {
          "base_uri": "https://localhost:8080/",
          "height": 34
        }
      },
      "source": [
        "#1-D\n",
        "\n",
        "a = np.array([0, 1, 2, 3])\n",
        "\n",
        "a"
      ],
      "execution_count": 0,
      "outputs": [
        {
          "output_type": "execute_result",
          "data": {
            "text/plain": [
              "array([0, 1, 2, 3])"
            ]
          },
          "metadata": {
            "tags": []
          },
          "execution_count": 7
        }
      ]
    },
    {
      "cell_type": "code",
      "metadata": {
        "id": "PpI7fZNz5KCW",
        "colab_type": "code",
        "outputId": "d04092ba-dd95-41ac-d8e5-23328cd022d1",
        "colab": {
          "base_uri": "https://localhost:8080/",
          "height": 34
        }
      },
      "source": [
        "#print dimensions\n",
        "\n",
        "a.ndim"
      ],
      "execution_count": 0,
      "outputs": [
        {
          "output_type": "execute_result",
          "data": {
            "text/plain": [
              "1"
            ]
          },
          "metadata": {
            "tags": []
          },
          "execution_count": 8
        }
      ]
    },
    {
      "cell_type": "code",
      "metadata": {
        "id": "oSY_Zr__5KCc",
        "colab_type": "code",
        "outputId": "549367f5-0c03-4cf5-fb64-14cf9e769ae7",
        "colab": {
          "base_uri": "https://localhost:8080/",
          "height": 34
        }
      },
      "source": [
        "#shape\n",
        "\n",
        "a.shape"
      ],
      "execution_count": 0,
      "outputs": [
        {
          "output_type": "execute_result",
          "data": {
            "text/plain": [
              "(4,)"
            ]
          },
          "metadata": {
            "tags": []
          },
          "execution_count": 9
        }
      ]
    },
    {
      "cell_type": "code",
      "metadata": {
        "id": "ur9ff3_j5KCg",
        "colab_type": "code",
        "outputId": "4939b60e-eac5-42fb-c0ba-1c763df5e7e6",
        "colab": {
          "base_uri": "https://localhost:8080/",
          "height": 34
        }
      },
      "source": [
        "len(a)"
      ],
      "execution_count": 0,
      "outputs": [
        {
          "output_type": "execute_result",
          "data": {
            "text/plain": [
              "4"
            ]
          },
          "metadata": {
            "tags": []
          },
          "execution_count": 10
        }
      ]
    },
    {
      "cell_type": "code",
      "metadata": {
        "id": "cJJeUtp15KCk",
        "colab_type": "code",
        "outputId": "995ecbd4-c9ce-410d-edfb-57a0e06f4d92",
        "colab": {
          "base_uri": "https://localhost:8080/",
          "height": 52
        }
      },
      "source": [
        "# 2-D, 3-D....\n",
        "\n",
        "b = np.array([[0, 1, 2], [3, 4, 5]])\n",
        "\n",
        "b"
      ],
      "execution_count": 0,
      "outputs": [
        {
          "output_type": "execute_result",
          "data": {
            "text/plain": [
              "array([[0, 1, 2],\n",
              "       [3, 4, 5]])"
            ]
          },
          "metadata": {
            "tags": []
          },
          "execution_count": 11
        }
      ]
    },
    {
      "cell_type": "code",
      "metadata": {
        "id": "5Bj4A__V5KCn",
        "colab_type": "code",
        "outputId": "99ea65bd-1cac-4ccf-9120-012273a54f7c",
        "colab": {
          "base_uri": "https://localhost:8080/",
          "height": 34
        }
      },
      "source": [
        "b.ndim"
      ],
      "execution_count": 0,
      "outputs": [
        {
          "output_type": "execute_result",
          "data": {
            "text/plain": [
              "2"
            ]
          },
          "metadata": {
            "tags": []
          },
          "execution_count": 12
        }
      ]
    },
    {
      "cell_type": "code",
      "metadata": {
        "id": "dcBDwROI5KCs",
        "colab_type": "code",
        "outputId": "04e1208e-af65-4448-b999-7c447f3e21cd",
        "colab": {
          "base_uri": "https://localhost:8080/",
          "height": 34
        }
      },
      "source": [
        "b.shape"
      ],
      "execution_count": 0,
      "outputs": [
        {
          "output_type": "execute_result",
          "data": {
            "text/plain": [
              "(2, 3)"
            ]
          },
          "metadata": {
            "tags": []
          },
          "execution_count": 13
        }
      ]
    },
    {
      "cell_type": "code",
      "metadata": {
        "id": "zXiykD5M5KC3",
        "colab_type": "code",
        "outputId": "d44b6684-e6ec-4903-9afd-b967771c3365",
        "colab": {
          "base_uri": "https://localhost:8080/",
          "height": 34
        }
      },
      "source": [
        "len(b) #returns the size of the first dimention"
      ],
      "execution_count": 0,
      "outputs": [
        {
          "output_type": "execute_result",
          "data": {
            "text/plain": [
              "2"
            ]
          },
          "metadata": {
            "tags": []
          },
          "execution_count": 14
        }
      ]
    },
    {
      "cell_type": "code",
      "metadata": {
        "id": "wFyPIgZr5KC8",
        "colab_type": "code",
        "outputId": "8be2ad3d-8d88-420f-8d98-08f4533a70bd",
        "colab": {
          "base_uri": "https://localhost:8080/",
          "height": 104
        }
      },
      "source": [
        "c = np.array([[[0, 1], [2, 3]], [[4, 5], [6, 7]]])\n",
        "\n",
        "c"
      ],
      "execution_count": 0,
      "outputs": [
        {
          "output_type": "execute_result",
          "data": {
            "text/plain": [
              "array([[[0, 1],\n",
              "        [2, 3]],\n",
              "\n",
              "       [[4, 5],\n",
              "        [6, 7]]])"
            ]
          },
          "metadata": {
            "tags": []
          },
          "execution_count": 15
        }
      ]
    },
    {
      "cell_type": "code",
      "metadata": {
        "id": "PkQivfRj5KDB",
        "colab_type": "code",
        "outputId": "bdbdc9fd-e036-46a7-94c5-a64c7a409877",
        "colab": {}
      },
      "source": [
        "c.ndim"
      ],
      "execution_count": 0,
      "outputs": [
        {
          "output_type": "execute_result",
          "data": {
            "text/plain": [
              "3"
            ]
          },
          "metadata": {
            "tags": []
          },
          "execution_count": 18
        }
      ]
    },
    {
      "cell_type": "code",
      "metadata": {
        "id": "xxo09EEZ5KDF",
        "colab_type": "code",
        "outputId": "25e0c15d-4e8d-44aa-c521-5d8632f2a0cc",
        "colab": {}
      },
      "source": [
        "c.shape"
      ],
      "execution_count": 0,
      "outputs": [
        {
          "output_type": "execute_result",
          "data": {
            "text/plain": [
              "(2, 2, 2)"
            ]
          },
          "metadata": {
            "tags": []
          },
          "execution_count": 19
        }
      ]
    },
    {
      "cell_type": "markdown",
      "metadata": {
        "id": "tEccAOSn5KDK",
        "colab_type": "text"
      },
      "source": [
        "** 1.2  Functions for creating arrays**"
      ]
    },
    {
      "cell_type": "code",
      "metadata": {
        "id": "yEeTwNqW5KDM",
        "colab_type": "code",
        "outputId": "ba1b71e9-6808-4138-993c-8a88df733c8b",
        "colab": {
          "base_uri": "https://localhost:8080/",
          "height": 34
        }
      },
      "source": [
        "#using arrange function\n",
        "\n",
        "# arange is an array-valued version of the built-in Python range function\n",
        "\n",
        "a = np.arange(10) # 0.... n-1\n",
        "a"
      ],
      "execution_count": 0,
      "outputs": [
        {
          "output_type": "execute_result",
          "data": {
            "text/plain": [
              "array([0, 1, 2, 3, 4, 5, 6, 7, 8, 9])"
            ]
          },
          "metadata": {
            "tags": []
          },
          "execution_count": 16
        }
      ]
    },
    {
      "cell_type": "code",
      "metadata": {
        "id": "w-aKnDg05KDQ",
        "colab_type": "code",
        "outputId": "8e3e82d5-ce8d-4630-ed88-49aa62cc968d",
        "colab": {
          "base_uri": "https://localhost:8080/",
          "height": 34
        }
      },
      "source": [
        "b = np.arange(1, 10, 2) #start, end (exclusive), step\n",
        "\n",
        "b"
      ],
      "execution_count": 0,
      "outputs": [
        {
          "output_type": "execute_result",
          "data": {
            "text/plain": [
              "array([1, 3, 5, 7, 9])"
            ]
          },
          "metadata": {
            "tags": []
          },
          "execution_count": 17
        }
      ]
    },
    {
      "cell_type": "code",
      "metadata": {
        "id": "PbY7KZ2T5KDU",
        "colab_type": "code",
        "outputId": "b6f742f9-ffcc-4d0c-8ff2-d9e4003cf516",
        "colab": {
          "base_uri": "https://localhost:8080/",
          "height": 34
        }
      },
      "source": [
        "#using linspace\n",
        "\n",
        "a = np.linspace(0, 1, 6) #start, end, number of points\n",
        "\n",
        "a"
      ],
      "execution_count": 0,
      "outputs": [
        {
          "output_type": "execute_result",
          "data": {
            "text/plain": [
              "array([0. , 0.2, 0.4, 0.6, 0.8, 1. ])"
            ]
          },
          "metadata": {
            "tags": []
          },
          "execution_count": 18
        }
      ]
    },
    {
      "cell_type": "code",
      "metadata": {
        "id": "jEXPF_bp5KDZ",
        "colab_type": "code",
        "outputId": "dbe26f2a-b240-417e-913c-8f673d65242f",
        "colab": {
          "base_uri": "https://localhost:8080/",
          "height": 69
        }
      },
      "source": [
        "#common arrays\n",
        "\n",
        "a = np.ones((3, 3))\n",
        "\n",
        "a"
      ],
      "execution_count": 0,
      "outputs": [
        {
          "output_type": "execute_result",
          "data": {
            "text/plain": [
              "array([[1., 1., 1.],\n",
              "       [1., 1., 1.],\n",
              "       [1., 1., 1.]])"
            ]
          },
          "metadata": {
            "tags": []
          },
          "execution_count": 19
        }
      ]
    },
    {
      "cell_type": "code",
      "metadata": {
        "id": "-zPMMjEo5KDc",
        "colab_type": "code",
        "outputId": "c8bc5789-636d-408a-9dad-119fe9ad6fba",
        "colab": {
          "base_uri": "https://localhost:8080/",
          "height": 69
        }
      },
      "source": [
        "b = np.zeros((3, 3))\n",
        "\n",
        "b"
      ],
      "execution_count": 0,
      "outputs": [
        {
          "output_type": "execute_result",
          "data": {
            "text/plain": [
              "array([[0., 0., 0.],\n",
              "       [0., 0., 0.],\n",
              "       [0., 0., 0.]])"
            ]
          },
          "metadata": {
            "tags": []
          },
          "execution_count": 20
        }
      ]
    },
    {
      "cell_type": "code",
      "metadata": {
        "id": "iva_x1Y25KDf",
        "colab_type": "code",
        "outputId": "ace04960-6126-4ee2-b9c4-a60c1fae167b",
        "colab": {
          "base_uri": "https://localhost:8080/",
          "height": 69
        }
      },
      "source": [
        "c = np.eye(3)  #Return a 2-D array with ones on the diagonal and zeros elsewhere.\n",
        "\n",
        "c"
      ],
      "execution_count": 0,
      "outputs": [
        {
          "output_type": "execute_result",
          "data": {
            "text/plain": [
              "array([[1., 0., 0.],\n",
              "       [0., 1., 0.],\n",
              "       [0., 0., 1.]])"
            ]
          },
          "metadata": {
            "tags": []
          },
          "execution_count": 21
        }
      ]
    },
    {
      "cell_type": "code",
      "metadata": {
        "id": "0UPv6IBd5KDk",
        "colab_type": "code",
        "outputId": "5d5fa271-b5c6-4f76-a459-4f47d184e803",
        "colab": {
          "base_uri": "https://localhost:8080/",
          "height": 69
        }
      },
      "source": [
        "d = np.eye(3, 2) #3 is number of rows, 2 is number of columns, index of diagonal start with 0\n",
        "\n",
        "d"
      ],
      "execution_count": 0,
      "outputs": [
        {
          "output_type": "execute_result",
          "data": {
            "text/plain": [
              "array([[1., 0.],\n",
              "       [0., 1.],\n",
              "       [0., 0.]])"
            ]
          },
          "metadata": {
            "tags": []
          },
          "execution_count": 22
        }
      ]
    },
    {
      "cell_type": "code",
      "metadata": {
        "id": "X0khu_6H5KDo",
        "colab_type": "code",
        "outputId": "043e2d0a-f055-4269-c4ba-cb240a9014f9",
        "colab": {
          "base_uri": "https://localhost:8080/",
          "height": 104
        }
      },
      "source": [
        "#create array using diag function\n",
        "\n",
        "a = np.diag([1, 2, 3, 4, 5]) #construct a diagonal array.\n",
        "\n",
        "a"
      ],
      "execution_count": 0,
      "outputs": [
        {
          "output_type": "execute_result",
          "data": {
            "text/plain": [
              "array([[1, 0, 0, 0, 0],\n",
              "       [0, 2, 0, 0, 0],\n",
              "       [0, 0, 3, 0, 0],\n",
              "       [0, 0, 0, 4, 0],\n",
              "       [0, 0, 0, 0, 5]])"
            ]
          },
          "metadata": {
            "tags": []
          },
          "execution_count": 24
        }
      ]
    },
    {
      "cell_type": "code",
      "metadata": {
        "id": "jtu2ChUt5KDq",
        "colab_type": "code",
        "outputId": "ff794c81-0fd7-464c-d350-b0721027d827",
        "colab": {
          "base_uri": "https://localhost:8080/",
          "height": 34
        }
      },
      "source": [
        "np.diag(a)   #Extract diagonal"
      ],
      "execution_count": 0,
      "outputs": [
        {
          "output_type": "execute_result",
          "data": {
            "text/plain": [
              "array([1, 2, 3, 4, 5])"
            ]
          },
          "metadata": {
            "tags": []
          },
          "execution_count": 25
        }
      ]
    },
    {
      "cell_type": "code",
      "metadata": {
        "id": "JfahvFnj5KDu",
        "colab_type": "code",
        "outputId": "e640079b-73cd-42f5-8b6e-341aa854fece",
        "colab": {
          "base_uri": "https://localhost:8080/",
          "height": 34
        }
      },
      "source": [
        "#create array using random\n",
        "\n",
        "#Create an array of the given shape and populate it with random samples from a uniform distribution over [0, 1).\n",
        "a = np.random.rand(4) \n",
        "\n",
        "a"
      ],
      "execution_count": 0,
      "outputs": [
        {
          "output_type": "execute_result",
          "data": {
            "text/plain": [
              "array([0.73704682, 0.6938814 , 0.96138801, 0.21701916])"
            ]
          },
          "metadata": {
            "tags": []
          },
          "execution_count": 26
        }
      ]
    },
    {
      "cell_type": "code",
      "metadata": {
        "id": "ot7Aij7d5KDw",
        "colab_type": "code",
        "outputId": "215e75b3-c563-4b98-b873-4b19d4340069",
        "colab": {
          "base_uri": "https://localhost:8080/",
          "height": 34
        }
      },
      "source": [
        "a = np.random.randn(4)#Return a sample (or samples) from the “standard normal” distribution.  ***Gausian***\n",
        "\n",
        "a"
      ],
      "execution_count": 0,
      "outputs": [
        {
          "output_type": "execute_result",
          "data": {
            "text/plain": [
              "array([-1.57805379,  0.44729197, -0.98067866, -1.32632378])"
            ]
          },
          "metadata": {
            "tags": []
          },
          "execution_count": 27
        }
      ]
    },
    {
      "cell_type": "markdown",
      "metadata": {
        "id": "aRK5tN_F5KDz",
        "colab_type": "text"
      },
      "source": [
        "**Note:**\n",
        "    \n",
        "For random samples from N(\\mu, \\sigma^2), use:\n",
        "\n",
        "sigma * np.random.randn(...) + mu\n",
        "\n"
      ]
    },
    {
      "cell_type": "markdown",
      "metadata": {
        "id": "36MjYG6E5KD0",
        "colab_type": "text"
      },
      "source": [
        "# 2. Basic DataTypes"
      ]
    },
    {
      "cell_type": "markdown",
      "metadata": {
        "id": "-K6yrynt5KD1",
        "colab_type": "text"
      },
      "source": [
        "You may have noticed that, in some instances, array elements are displayed with a **trailing dot (e.g. 2. vs 2)**. This is due to a difference in the **data-type** used:"
      ]
    },
    {
      "cell_type": "code",
      "metadata": {
        "id": "Dee7Z3215KD2",
        "colab_type": "code",
        "outputId": "25cc3390-cfa7-4173-d1c9-c4c97ea0ae26",
        "colab": {
          "base_uri": "https://localhost:8080/",
          "height": 34
        }
      },
      "source": [
        "a = np.arange(10)\n",
        "\n",
        "a.dtype"
      ],
      "execution_count": 0,
      "outputs": [
        {
          "output_type": "execute_result",
          "data": {
            "text/plain": [
              "dtype('int64')"
            ]
          },
          "metadata": {
            "tags": []
          },
          "execution_count": 28
        }
      ]
    },
    {
      "cell_type": "code",
      "metadata": {
        "id": "rTIjQKfp5KD8",
        "colab_type": "code",
        "outputId": "0f4beef8-98ab-4522-e751-c86852b3b840",
        "colab": {
          "base_uri": "https://localhost:8080/",
          "height": 34
        }
      },
      "source": [
        "#You can explicitly specify which data-type you want:\n",
        "\n",
        "a = np.arange(10, dtype='float64')\n",
        "a"
      ],
      "execution_count": 0,
      "outputs": [
        {
          "output_type": "execute_result",
          "data": {
            "text/plain": [
              "array([0., 1., 2., 3., 4., 5., 6., 7., 8., 9.])"
            ]
          },
          "metadata": {
            "tags": []
          },
          "execution_count": 29
        }
      ]
    },
    {
      "cell_type": "code",
      "metadata": {
        "id": "HsKFx1Sx5KD-",
        "colab_type": "code",
        "outputId": "4938243a-1b56-464e-f2cb-b0c6b93842eb",
        "colab": {
          "base_uri": "https://localhost:8080/",
          "height": 86
        }
      },
      "source": [
        "#The default data type is float for zeros and ones function\n",
        "\n",
        "a = np.zeros((3, 3))\n",
        "\n",
        "print(a)\n",
        "\n",
        "a.dtype"
      ],
      "execution_count": 0,
      "outputs": [
        {
          "output_type": "stream",
          "text": [
            "[[0. 0. 0.]\n",
            " [0. 0. 0.]\n",
            " [0. 0. 0.]]\n"
          ],
          "name": "stdout"
        },
        {
          "output_type": "execute_result",
          "data": {
            "text/plain": [
              "dtype('float64')"
            ]
          },
          "metadata": {
            "tags": []
          },
          "execution_count": 30
        }
      ]
    },
    {
      "cell_type": "markdown",
      "metadata": {
        "id": "dAiIi9vT5KEB",
        "colab_type": "text"
      },
      "source": [
        "**other datatypes**"
      ]
    },
    {
      "cell_type": "code",
      "metadata": {
        "id": "XCgbLGnL5KEC",
        "colab_type": "code",
        "outputId": "6daaa2ea-e5a8-4128-b070-4283ab88d621",
        "colab": {
          "base_uri": "https://localhost:8080/",
          "height": 34
        }
      },
      "source": [
        "d = np.array([1+2j, 2+4j])   #Complex datatype\n",
        "\n",
        "print(d.dtype)"
      ],
      "execution_count": 0,
      "outputs": [
        {
          "output_type": "stream",
          "text": [
            "complex128\n"
          ],
          "name": "stdout"
        }
      ]
    },
    {
      "cell_type": "code",
      "metadata": {
        "id": "t9Brdfix5KEF",
        "colab_type": "code",
        "outputId": "92c4a62b-3189-4317-dba0-5091dca48131",
        "colab": {
          "base_uri": "https://localhost:8080/",
          "height": 34
        }
      },
      "source": [
        "b = np.array([True, False, True, False])  #Boolean datatype\n",
        "\n",
        "print(b.dtype)"
      ],
      "execution_count": 0,
      "outputs": [
        {
          "output_type": "stream",
          "text": [
            "bool\n"
          ],
          "name": "stdout"
        }
      ]
    },
    {
      "cell_type": "code",
      "metadata": {
        "id": "bn7PC1I45KEI",
        "colab_type": "code",
        "outputId": "b9dfa9d0-bc98-4245-b15f-641cdfc26e05",
        "colab": {
          "base_uri": "https://localhost:8080/",
          "height": 34
        }
      },
      "source": [
        "s = np.array(['Ram', 'Robert', 'Rahim'])\n",
        "\n",
        "s.dtype"
      ],
      "execution_count": 0,
      "outputs": [
        {
          "output_type": "execute_result",
          "data": {
            "text/plain": [
              "dtype('<U6')"
            ]
          },
          "metadata": {
            "tags": []
          },
          "execution_count": 33
        }
      ]
    },
    {
      "cell_type": "markdown",
      "metadata": {
        "id": "gTy0tQFl5KEM",
        "colab_type": "text"
      },
      "source": [
        "**Each built-in data type has a character code that uniquely identifies it.**\n",
        "\n",
        "'b' − boolean\n",
        "\n",
        "'i' − (signed) integer\n",
        "\n",
        "'u' − unsigned integer\n",
        "\n",
        "'f' − floating-point\n",
        "\n",
        "'c' − complex-floating point\n",
        "\n",
        "'m' − timedelta\n",
        "\n",
        "'M' − datetime\n",
        "\n",
        "'O' − (Python) objects\n",
        "\n",
        "'S', 'a' − (byte-)string\n",
        "\n",
        "'U' − Unicode\n",
        "\n",
        "'V' − raw data (void)"
      ]
    },
    {
      "cell_type": "markdown",
      "metadata": {
        "id": "tlNp08Q-5KEQ",
        "colab_type": "text"
      },
      "source": [
        "**For more details**\n",
        "\n",
        "**https://docs.scipy.org/doc/numpy-1.10.1/user/basics.types.html**"
      ]
    },
    {
      "cell_type": "markdown",
      "metadata": {
        "id": "lxxrSs8A5KER",
        "colab_type": "text"
      },
      "source": [
        "# 3. Indexing and Slicing"
      ]
    },
    {
      "cell_type": "markdown",
      "metadata": {
        "id": "Z_a389VI5KET",
        "colab_type": "text"
      },
      "source": [
        "**3.1 Indexing**"
      ]
    },
    {
      "cell_type": "markdown",
      "metadata": {
        "id": "oA4Iu7nt5KEU",
        "colab_type": "text"
      },
      "source": [
        "The items of an array can be accessed and assigned to the same way as other **Python sequences (e.g. lists)**:"
      ]
    },
    {
      "cell_type": "code",
      "metadata": {
        "id": "F4VuVNHU5KEW",
        "colab_type": "code",
        "outputId": "99f70d29-22c5-4217-d853-a118dd9c81d9",
        "colab": {
          "base_uri": "https://localhost:8080/",
          "height": 34
        }
      },
      "source": [
        "a = np.arange(10)\n",
        "\n",
        "print(a[5])  #indices begin at 0, like other Python sequences (and C/C++)"
      ],
      "execution_count": 0,
      "outputs": [
        {
          "output_type": "stream",
          "text": [
            "5\n"
          ],
          "name": "stdout"
        }
      ]
    },
    {
      "cell_type": "code",
      "metadata": {
        "id": "9hwCCtDL5KEb",
        "colab_type": "code",
        "outputId": "df907deb-438a-4973-e850-5db281b5b997",
        "colab": {
          "base_uri": "https://localhost:8080/",
          "height": 86
        }
      },
      "source": [
        "# For multidimensional arrays, indexes are tuples of integers:\n",
        "\n",
        "a = np.diag([1, 2, 3])\n",
        "print(a)\n",
        "\n",
        "print(a[2, 2])\n"
      ],
      "execution_count": 0,
      "outputs": [
        {
          "output_type": "stream",
          "text": [
            "[[1 0 0]\n",
            " [0 2 0]\n",
            " [0 0 3]]\n",
            "3\n"
          ],
          "name": "stdout"
        }
      ]
    },
    {
      "cell_type": "code",
      "metadata": {
        "id": "bS9JIqhw5KEf",
        "colab_type": "code",
        "outputId": "b6c5e28a-262e-49ca-df08-27dea662434e",
        "colab": {
          "base_uri": "https://localhost:8080/",
          "height": 69
        }
      },
      "source": [
        "a[2, 1] = 5 #assigning value\n",
        "\n",
        "a"
      ],
      "execution_count": 0,
      "outputs": [
        {
          "output_type": "execute_result",
          "data": {
            "text/plain": [
              "array([[1, 0, 0],\n",
              "       [0, 2, 0],\n",
              "       [0, 5, 3]])"
            ]
          },
          "metadata": {
            "tags": []
          },
          "execution_count": 39
        }
      ]
    },
    {
      "cell_type": "markdown",
      "metadata": {
        "id": "oKY3p8dz5KEi",
        "colab_type": "text"
      },
      "source": [
        "**3.2 Slicing**"
      ]
    },
    {
      "cell_type": "code",
      "metadata": {
        "id": "LJ7vz5uf5KEj",
        "colab_type": "code",
        "outputId": "3f2d616e-7a96-4bb7-956b-8373d8084f74",
        "colab": {
          "base_uri": "https://localhost:8080/",
          "height": 34
        }
      },
      "source": [
        "a = np.arange(10)\n",
        "\n",
        "a"
      ],
      "execution_count": 0,
      "outputs": [
        {
          "output_type": "execute_result",
          "data": {
            "text/plain": [
              "array([0, 1, 2, 3, 4, 5, 6, 7, 8, 9])"
            ]
          },
          "metadata": {
            "tags": []
          },
          "execution_count": 40
        }
      ]
    },
    {
      "cell_type": "code",
      "metadata": {
        "id": "5-XmC2tC5KEr",
        "colab_type": "code",
        "outputId": "5656aca6-28f4-43af-ce84-d3a31a8525c1",
        "colab": {
          "base_uri": "https://localhost:8080/",
          "height": 34
        }
      },
      "source": [
        "a[1:8:2] # [startindex: endindex(exclusive) : step]"
      ],
      "execution_count": 0,
      "outputs": [
        {
          "output_type": "execute_result",
          "data": {
            "text/plain": [
              "array([1, 3, 5, 7])"
            ]
          },
          "metadata": {
            "tags": []
          },
          "execution_count": 41
        }
      ]
    },
    {
      "cell_type": "code",
      "metadata": {
        "id": "kCvFrEFK5KEv",
        "colab_type": "code",
        "outputId": "f8eb6f6c-692c-46c5-a343-cc477dfa227c",
        "colab": {
          "base_uri": "https://localhost:8080/",
          "height": 34
        }
      },
      "source": [
        "#we can also combine assignment and slicing:\n",
        "\n",
        "a = np.arange(10)\n",
        "a[5:] = 10\n",
        "a"
      ],
      "execution_count": 0,
      "outputs": [
        {
          "output_type": "execute_result",
          "data": {
            "text/plain": [
              "array([ 0,  1,  2,  3,  4, 10, 10, 10, 10, 10])"
            ]
          },
          "metadata": {
            "tags": []
          },
          "execution_count": 42
        }
      ]
    },
    {
      "cell_type": "code",
      "metadata": {
        "id": "Mnj-1D8y5KE0",
        "colab_type": "code",
        "outputId": "5cb29b55-2539-46e1-923e-51b66b7c1cad",
        "colab": {
          "base_uri": "https://localhost:8080/",
          "height": 34
        }
      },
      "source": [
        "b = np.arange(5)\n",
        "a[5:] = b[::-1]  #assigning\n",
        "\n",
        "a"
      ],
      "execution_count": 0,
      "outputs": [
        {
          "output_type": "execute_result",
          "data": {
            "text/plain": [
              "array([0, 1, 2, 3, 4, 4, 3, 2, 1, 0])"
            ]
          },
          "metadata": {
            "tags": []
          },
          "execution_count": 43
        }
      ]
    },
    {
      "cell_type": "markdown",
      "metadata": {
        "id": "PFR1291r5KE3",
        "colab_type": "text"
      },
      "source": [
        "# 4. Copies and Views"
      ]
    },
    {
      "cell_type": "markdown",
      "metadata": {
        "id": "pNCFMofD5KE4",
        "colab_type": "text"
      },
      "source": [
        "A slicing operation creates a view on the original array, which is just a way of accessing array data. Thus the original array is not copied in memory. You can use **np.may_share_memory()** to check if two arrays share the same memory block. "
      ]
    },
    {
      "cell_type": "markdown",
      "metadata": {
        "id": "QLK31tTF5KE5",
        "colab_type": "text"
      },
      "source": [
        "**When modifying the view, the original array is modified as well:**"
      ]
    },
    {
      "cell_type": "code",
      "metadata": {
        "id": "4XKbPBCn5KE6",
        "colab_type": "code",
        "outputId": "7db6dd4e-505b-4671-8d3e-c11935a567f7",
        "colab": {
          "base_uri": "https://localhost:8080/",
          "height": 34
        }
      },
      "source": [
        "a = np.arange(10)\n",
        "a"
      ],
      "execution_count": 0,
      "outputs": [
        {
          "output_type": "execute_result",
          "data": {
            "text/plain": [
              "array([0, 1, 2, 3, 4, 5, 6, 7, 8, 9])"
            ]
          },
          "metadata": {
            "tags": []
          },
          "execution_count": 44
        }
      ]
    },
    {
      "cell_type": "code",
      "metadata": {
        "id": "HbR8tgg25KE-",
        "colab_type": "code",
        "outputId": "e120d46e-d8bd-4f76-cf69-40513835a12a",
        "colab": {
          "base_uri": "https://localhost:8080/",
          "height": 34
        }
      },
      "source": [
        "b = a[::2]\n",
        "b"
      ],
      "execution_count": 0,
      "outputs": [
        {
          "output_type": "execute_result",
          "data": {
            "text/plain": [
              "array([0, 2, 4, 6, 8])"
            ]
          },
          "metadata": {
            "tags": []
          },
          "execution_count": 45
        }
      ]
    },
    {
      "cell_type": "code",
      "metadata": {
        "id": "cjz9r8q25KFC",
        "colab_type": "code",
        "outputId": "787edd15-2593-4791-ef30-2084653dc70e",
        "colab": {
          "base_uri": "https://localhost:8080/",
          "height": 34
        }
      },
      "source": [
        "np.shares_memory(a, b)"
      ],
      "execution_count": 0,
      "outputs": [
        {
          "output_type": "execute_result",
          "data": {
            "text/plain": [
              "True"
            ]
          },
          "metadata": {
            "tags": []
          },
          "execution_count": 46
        }
      ]
    },
    {
      "cell_type": "code",
      "metadata": {
        "id": "PGjnKce25KFG",
        "colab_type": "code",
        "outputId": "ab5e72e7-529c-4555-bc5e-21aa6f397333",
        "colab": {}
      },
      "source": [
        "b[0] = 10\n",
        "b"
      ],
      "execution_count": 0,
      "outputs": [
        {
          "output_type": "execute_result",
          "data": {
            "text/plain": [
              "array([10,  2,  4,  6,  8])"
            ]
          },
          "metadata": {
            "tags": []
          },
          "execution_count": 44
        }
      ]
    },
    {
      "cell_type": "code",
      "metadata": {
        "id": "och7ft5c5KFN",
        "colab_type": "code",
        "outputId": "1279b0a9-2948-4f54-b9fa-534dba6121a3",
        "colab": {}
      },
      "source": [
        "a  #eventhough we modified b,  it updated 'a' because both shares same memory"
      ],
      "execution_count": 0,
      "outputs": [
        {
          "output_type": "execute_result",
          "data": {
            "text/plain": [
              "array([10,  1,  2,  3,  4,  5,  6,  7,  8,  9])"
            ]
          },
          "metadata": {
            "tags": []
          },
          "execution_count": 45
        }
      ]
    },
    {
      "cell_type": "code",
      "metadata": {
        "id": "RwH_Zza45KFR",
        "colab_type": "code",
        "outputId": "e38c2f3a-c481-49cd-a0b9-87f8441c93fd",
        "colab": {}
      },
      "source": [
        "\n",
        "\n",
        "a = np.arange(10)\n",
        "\n",
        "c = a[::2].copy()     #force a copy\n",
        "c"
      ],
      "execution_count": 0,
      "outputs": [
        {
          "output_type": "execute_result",
          "data": {
            "text/plain": [
              "array([0, 2, 4, 6, 8])"
            ]
          },
          "metadata": {
            "tags": []
          },
          "execution_count": 46
        }
      ]
    },
    {
      "cell_type": "code",
      "metadata": {
        "id": "zhACmhU85KFW",
        "colab_type": "code",
        "outputId": "deabb60c-1fd4-44e7-dfb3-f2c77c50a1d8",
        "colab": {}
      },
      "source": [
        "np.shares_memory(a, c)"
      ],
      "execution_count": 0,
      "outputs": [
        {
          "output_type": "execute_result",
          "data": {
            "text/plain": [
              "False"
            ]
          },
          "metadata": {
            "tags": []
          },
          "execution_count": 47
        }
      ]
    },
    {
      "cell_type": "code",
      "metadata": {
        "id": "zbhoU-2W5KFZ",
        "colab_type": "code",
        "outputId": "20ba89b5-c1e2-432f-bd94-d071991750b1",
        "colab": {}
      },
      "source": [
        "c[0] = 10\n",
        "\n",
        "a"
      ],
      "execution_count": 0,
      "outputs": [
        {
          "output_type": "execute_result",
          "data": {
            "text/plain": [
              "array([0, 1, 2, 3, 4, 5, 6, 7, 8, 9])"
            ]
          },
          "metadata": {
            "tags": []
          },
          "execution_count": 48
        }
      ]
    },
    {
      "cell_type": "markdown",
      "metadata": {
        "id": "BzcH6VRZ5KFc",
        "colab_type": "text"
      },
      "source": [
        "# 5. Fancy Indexing"
      ]
    },
    {
      "cell_type": "markdown",
      "metadata": {
        "id": "hpi-JUwC5KFc",
        "colab_type": "text"
      },
      "source": [
        "NumPy arrays can be indexed with slices, but also with boolean or integer arrays **(masks)**. This method is called **fancy indexing**. It creates copies not views."
      ]
    },
    {
      "cell_type": "markdown",
      "metadata": {
        "id": "RJtFgW0o5KFf",
        "colab_type": "text"
      },
      "source": [
        "**Using Boolean Mask**"
      ]
    },
    {
      "cell_type": "code",
      "metadata": {
        "id": "Zb5eSA455KFn",
        "colab_type": "code",
        "outputId": "4e4222b6-5650-4f68-d03c-76063b008b0b",
        "colab": {
          "base_uri": "https://localhost:8080/",
          "height": 34
        }
      },
      "source": [
        "a = np.random.randint(0, 20, 15)\n",
        "a"
      ],
      "execution_count": 0,
      "outputs": [
        {
          "output_type": "execute_result",
          "data": {
            "text/plain": [
              "array([10, 10, 17,  7,  2, 19,  0,  8,  5,  4, 12, 10,  1, 10,  1])"
            ]
          },
          "metadata": {
            "tags": []
          },
          "execution_count": 47
        }
      ]
    },
    {
      "cell_type": "code",
      "metadata": {
        "id": "EaIy9IdS5KFq",
        "colab_type": "code",
        "colab": {}
      },
      "source": [
        "mask = (a % 2 == 0)"
      ],
      "execution_count": 0,
      "outputs": []
    },
    {
      "cell_type": "code",
      "metadata": {
        "id": "F7YUrhyv5KFt",
        "colab_type": "code",
        "outputId": "313a68e9-c6f8-45ea-88bb-98ae749306b7",
        "colab": {
          "base_uri": "https://localhost:8080/",
          "height": 34
        }
      },
      "source": [
        "extract_from_a = a[mask]\n",
        "\n",
        "extract_from_a"
      ],
      "execution_count": 0,
      "outputs": [
        {
          "output_type": "execute_result",
          "data": {
            "text/plain": [
              "array([10, 10,  2,  0,  8,  4, 12, 10, 10])"
            ]
          },
          "metadata": {
            "tags": []
          },
          "execution_count": 49
        }
      ]
    },
    {
      "cell_type": "markdown",
      "metadata": {
        "id": "cgMKaiDh5KFx",
        "colab_type": "text"
      },
      "source": [
        "**Indexing with a mask can be very useful to assign a new value to a sub-array:**"
      ]
    },
    {
      "cell_type": "code",
      "metadata": {
        "id": "AMnQz8f15KFx",
        "colab_type": "code",
        "outputId": "7e985c2f-2f93-46a3-de39-6c582f2e8c5c",
        "colab": {
          "base_uri": "https://localhost:8080/",
          "height": 34
        }
      },
      "source": [
        "a[mask] = -1\n",
        "a"
      ],
      "execution_count": 0,
      "outputs": [
        {
          "output_type": "execute_result",
          "data": {
            "text/plain": [
              "array([-1, -1, 17,  7, -1, 19, -1, -1,  5, -1, -1, -1,  1, -1,  1])"
            ]
          },
          "metadata": {
            "tags": []
          },
          "execution_count": 50
        }
      ]
    },
    {
      "cell_type": "markdown",
      "metadata": {
        "id": "Z0y-Uzk75KF0",
        "colab_type": "text"
      },
      "source": [
        "**Indexing with an array of integers**"
      ]
    },
    {
      "cell_type": "code",
      "metadata": {
        "id": "2cdfdqQn5KF1",
        "colab_type": "code",
        "outputId": "cb4c6298-1b99-4231-969e-f22b3992541e",
        "colab": {}
      },
      "source": [
        "a = np.arange(0, 100, 10)\n",
        "\n",
        "a"
      ],
      "execution_count": 0,
      "outputs": [
        {
          "output_type": "execute_result",
          "data": {
            "text/plain": [
              "array([ 0, 10, 20, 30, 40, 50, 60, 70, 80, 90])"
            ]
          },
          "metadata": {
            "tags": []
          },
          "execution_count": 53
        }
      ]
    },
    {
      "cell_type": "code",
      "metadata": {
        "id": "YlxMqvLm5KF4",
        "colab_type": "code",
        "outputId": "091ba535-a1e3-405a-f87e-dc84df18081c",
        "colab": {}
      },
      "source": [
        "#Indexing can be done with an array of integers, where the same index is repeated several time:\n",
        "\n",
        "a[[2, 3, 2, 4, 2]]"
      ],
      "execution_count": 0,
      "outputs": [
        {
          "output_type": "execute_result",
          "data": {
            "text/plain": [
              "array([20, 30, 20, 40, 20])"
            ]
          },
          "metadata": {
            "tags": []
          },
          "execution_count": 54
        }
      ]
    },
    {
      "cell_type": "code",
      "metadata": {
        "id": "czX77cEZ5KF6",
        "colab_type": "code",
        "outputId": "b60b4d4f-4b31-4506-a54a-a9898a41e7d5",
        "colab": {}
      },
      "source": [
        "# New values can be assigned \n",
        "\n",
        "a[[9, 7]] = -200\n",
        "\n",
        "a"
      ],
      "execution_count": 0,
      "outputs": [
        {
          "output_type": "execute_result",
          "data": {
            "text/plain": [
              "array([   0,   10,   20,   30,   40,   50,   60, -200,   80, -200])"
            ]
          },
          "metadata": {
            "tags": []
          },
          "execution_count": 55
        }
      ]
    }
  ]
}