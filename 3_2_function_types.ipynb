{
  "nbformat": 4,
  "nbformat_minor": 0,
  "metadata": {
    "colab": {
      "name": "3.2.function_types.ipynb",
      "provenance": [],
      "include_colab_link": true
    },
    "kernelspec": {
      "display_name": "Python 3",
      "language": "python",
      "name": "python3"
    }
  },
  "cells": [
    {
      "cell_type": "markdown",
      "metadata": {
        "id": "view-in-github",
        "colab_type": "text"
      },
      "source": [
        "<a href=\"https://colab.research.google.com/github/bibekuchiha/Python-for-Data-Science---functions/blob/master/3_2_function_types.ipynb\" target=\"_parent\"><img src=\"https://colab.research.google.com/assets/colab-badge.svg\" alt=\"Open In Colab\"/></a>"
      ]
    },
    {
      "cell_type": "markdown",
      "metadata": {
        "id": "RqxIugMnDy18",
        "colab_type": "text"
      },
      "source": [
        "# Types Of Functions"
      ]
    },
    {
      "cell_type": "markdown",
      "metadata": {
        "id": "MeGY4QcFDy2B",
        "colab_type": "text"
      },
      "source": [
        "# 1. Built-in Functions\n",
        "A function that is built into an application and can be accessed by end-users. \n",
        "\n",
        "\n",
        "# 2. User-defined Functions\n",
        "A user-defined function is a function provided by the user of a program or environment, in a context where the usual assumption is that functions are built into the program or environment."
      ]
    },
    {
      "cell_type": "markdown",
      "metadata": {
        "id": "ilt0Wb4sDy2E",
        "colab_type": "text"
      },
      "source": [
        "# Built-in Functions"
      ]
    },
    {
      "cell_type": "markdown",
      "metadata": {
        "id": "ubtJWhwrDy2F",
        "colab_type": "text"
      },
      "source": [
        "# 1. abs()"
      ]
    },
    {
      "cell_type": "code",
      "metadata": {
        "id": "cs7rqfNGDy2H",
        "colab_type": "code",
        "outputId": "afc2ca67-e72f-40f9-8d29-dbf6fa6a0b8f",
        "colab": {
          "base_uri": "https://localhost:8080/",
          "height": 52
        }
      },
      "source": [
        "# find the absolute value\n",
        "\n",
        "num1 = -100\n",
        "num2 = 100\n",
        "print(abs(num1))\n",
        "print(abs(num2))"
      ],
      "execution_count": 3,
      "outputs": [
        {
          "output_type": "stream",
          "text": [
            "100\n",
            "100\n"
          ],
          "name": "stdout"
        }
      ]
    },
    {
      "cell_type": "markdown",
      "metadata": {
        "id": "Ao4an2SJDy2V",
        "colab_type": "text"
      },
      "source": [
        "# 2. all()"
      ]
    },
    {
      "cell_type": "markdown",
      "metadata": {
        "id": "s7KNa-qjDy2X",
        "colab_type": "text"
      },
      "source": [
        "#return value of all() function\n",
        "\n",
        "True: if all elements in an iterable are true\n",
        "\n",
        "False: if any element in an iterable is false"
      ]
    },
    {
      "cell_type": "code",
      "metadata": {
        "id": "BUYpaNxDDy2Z",
        "colab_type": "code",
        "outputId": "cc904dc1-621e-400c-8214-d089b06baf11",
        "colab": {
          "base_uri": "https://localhost:8080/",
          "height": 34
        }
      },
      "source": [
        "lst = [1, 2, 3, 4]\n",
        "print(all(lst)) \n"
      ],
      "execution_count": 4,
      "outputs": [
        {
          "output_type": "stream",
          "text": [
            "True\n"
          ],
          "name": "stdout"
        }
      ]
    },
    {
      "cell_type": "code",
      "metadata": {
        "id": "PMh2XjhmDy2g",
        "colab_type": "code",
        "outputId": "f09a9b3e-a8b5-44f2-d4ad-d4fead03ebed",
        "colab": {
          "base_uri": "https://localhost:8080/",
          "height": 34
        }
      },
      "source": [
        "lst = (0, 2, 3, 4)    # 0 present in list \n",
        "print(all(lst))\n"
      ],
      "execution_count": 5,
      "outputs": [
        {
          "output_type": "stream",
          "text": [
            "False\n"
          ],
          "name": "stdout"
        }
      ]
    },
    {
      "cell_type": "code",
      "metadata": {
        "id": "A1612gmHDy2n",
        "colab_type": "code",
        "outputId": "b9edae1e-5fe0-4aa2-d9cb-354713796530",
        "colab": {
          "base_uri": "https://localhost:8080/",
          "height": 34
        }
      },
      "source": [
        "lst = []              #empty list always true\n",
        "print(all(lst))\n"
      ],
      "execution_count": 6,
      "outputs": [
        {
          "output_type": "stream",
          "text": [
            "True\n"
          ],
          "name": "stdout"
        }
      ]
    },
    {
      "cell_type": "code",
      "metadata": {
        "id": "EFwmHv_kDy2v",
        "colab_type": "code",
        "outputId": "20a4e2d3-dd52-4bae-f8ab-4ddef3d99bd8",
        "colab": {
          "base_uri": "https://localhost:8080/",
          "height": 34
        }
      },
      "source": [
        "lst = [False, 1, 2]   #False present in a list so all(lst) is False\n",
        "print(all(lst))\n"
      ],
      "execution_count": 7,
      "outputs": [
        {
          "output_type": "stream",
          "text": [
            "False\n"
          ],
          "name": "stdout"
        }
      ]
    },
    {
      "cell_type": "code",
      "metadata": {
        "id": "B8t68-m4sGBX",
        "colab_type": "code",
        "colab": {
          "base_uri": "https://localhost:8080/",
          "height": 34
        },
        "outputId": "1f50b517-de5f-4195-d430-c5b4d407ac86"
      },
      "source": [
        "lst = [True, 1, 2] #True present in a list so all(lst) is True\n",
        "print(all(lst))"
      ],
      "execution_count": 8,
      "outputs": [
        {
          "output_type": "stream",
          "text": [
            "True\n"
          ],
          "name": "stdout"
        }
      ]
    },
    {
      "cell_type": "markdown",
      "metadata": {
        "id": "Vpyu5OLGDy2z",
        "colab_type": "text"
      },
      "source": [
        "# dir()"
      ]
    },
    {
      "cell_type": "markdown",
      "metadata": {
        "id": "hKSi83LiDy20",
        "colab_type": "text"
      },
      "source": [
        "The dir() tries to return a list of valid attributes of the object.\n",
        "\n",
        "If the object has __dir__() method, the method will be called and must return the list of attributes.\n",
        "\n",
        "If the object doesn't have __dir()__ method, this method tries to find information from the __dict__ attribute (if defined), and from type object. In this case, the list returned from dir() may not be complete.\n"
      ]
    },
    {
      "cell_type": "code",
      "metadata": {
        "id": "x3-LaQj8Dy22",
        "colab_type": "code",
        "outputId": "affab30b-c1e9-452a-d3e8-6a0d31b6e625",
        "colab": {
          "base_uri": "https://localhost:8080/",
          "height": 54
        }
      },
      "source": [
        "numbers = [1, 2, 3]\n",
        "\n",
        "print(dir(numbers))\n"
      ],
      "execution_count": 9,
      "outputs": [
        {
          "output_type": "stream",
          "text": [
            "['__add__', '__class__', '__contains__', '__delattr__', '__delitem__', '__dir__', '__doc__', '__eq__', '__format__', '__ge__', '__getattribute__', '__getitem__', '__gt__', '__hash__', '__iadd__', '__imul__', '__init__', '__init_subclass__', '__iter__', '__le__', '__len__', '__lt__', '__mul__', '__ne__', '__new__', '__reduce__', '__reduce_ex__', '__repr__', '__reversed__', '__rmul__', '__setattr__', '__setitem__', '__sizeof__', '__str__', '__subclasshook__', 'append', 'clear', 'copy', 'count', 'extend', 'index', 'insert', 'pop', 'remove', 'reverse', 'sort']\n"
          ],
          "name": "stdout"
        }
      ]
    },
    {
      "cell_type": "markdown",
      "metadata": {
        "id": "qAkLDrzDDy27",
        "colab_type": "text"
      },
      "source": [
        "# divmod()"
      ]
    },
    {
      "cell_type": "markdown",
      "metadata": {
        "id": "Z7PAJz9RDy28",
        "colab_type": "text"
      },
      "source": [
        "The divmod() method takes two numbers and returns a pair of numbers (a tuple) consisting of their quotient and remainder."
      ]
    },
    {
      "cell_type": "code",
      "metadata": {
        "id": "6V3UUIj-Dy29",
        "colab_type": "code",
        "outputId": "1aad4209-260a-4bb2-f771-fe2e702e8e86",
        "colab": {
          "base_uri": "https://localhost:8080/",
          "height": 34
        }
      },
      "source": [
        "print(divmod(9, 2)) #print quotient and remainder as a tuple\n",
        "\n",
        "#try with other number\n"
      ],
      "execution_count": 10,
      "outputs": [
        {
          "output_type": "stream",
          "text": [
            "(4, 1)\n"
          ],
          "name": "stdout"
        }
      ]
    },
    {
      "cell_type": "markdown",
      "metadata": {
        "id": "3XcOj4ahDy3A",
        "colab_type": "text"
      },
      "source": [
        "# enumerate()"
      ]
    },
    {
      "cell_type": "markdown",
      "metadata": {
        "id": "sPGIxThfDy3C",
        "colab_type": "text"
      },
      "source": [
        "The enumerate() method adds counter to an iterable and returns it "
      ]
    },
    {
      "cell_type": "markdown",
      "metadata": {
        "id": "PsPTJ9w3Dy3C",
        "colab_type": "text"
      },
      "source": [
        "syntax: enumerate(iterable, start=0)"
      ]
    },
    {
      "cell_type": "code",
      "metadata": {
        "id": "LzYe1WyTDy3E",
        "colab_type": "code",
        "outputId": "b0d10b0e-df92-4ff8-84ff-e9b9587cb4dd",
        "colab": {
          "base_uri": "https://localhost:8080/",
          "height": 86
        }
      },
      "source": [
        "numbers = [10, 20, 30, 40]\n",
        "\n",
        "for index, num in enumerate(numbers,5):\n",
        "    print(\"index {0} has value {1}\".format(index, num))\n",
        "    "
      ],
      "execution_count": 12,
      "outputs": [
        {
          "output_type": "stream",
          "text": [
            "index 5 has value 10\n",
            "index 6 has value 20\n",
            "index 7 has value 30\n",
            "index 8 has value 40\n"
          ],
          "name": "stdout"
        }
      ]
    },
    {
      "cell_type": "markdown",
      "metadata": {
        "id": "Qv7BOrOjDy3I",
        "colab_type": "text"
      },
      "source": [
        "# filter()"
      ]
    },
    {
      "cell_type": "markdown",
      "metadata": {
        "id": "K8_DVZ2uDy3J",
        "colab_type": "text"
      },
      "source": [
        "The filter() method constructs an iterator from elements of an iterable for which a function returns true."
      ]
    },
    {
      "cell_type": "markdown",
      "metadata": {
        "id": "Xsq_-ITBDy3K",
        "colab_type": "text"
      },
      "source": [
        "syntax: filter(function, iterable)"
      ]
    },
    {
      "cell_type": "code",
      "metadata": {
        "id": "-Nclc6WjDy3L",
        "colab_type": "code",
        "colab": {}
      },
      "source": [
        "def find_positive_number(num):\n",
        "    \"\"\"\n",
        "    This function returns the positive number if num is positive\n",
        "    \"\"\"\n",
        "    if num > 0:\n",
        "        return num\n",
        "    "
      ],
      "execution_count": 0,
      "outputs": []
    },
    {
      "cell_type": "code",
      "metadata": {
        "id": "ef_Se6snDy3Q",
        "colab_type": "code",
        "outputId": "7247c3dc-1e26-4ac0-f6d7-f3a86727f7f5",
        "colab": {
          "base_uri": "https://localhost:8080/",
          "height": 52
        }
      },
      "source": [
        "number_list = range(-10, 10) #create a list with numbers from -10 to 10\n",
        "print(list(number_list))\n",
        "\n",
        "positive_num_lst = list(filter(find_positive_number, number_list))\n",
        "\n",
        "print(positive_num_lst)\n"
      ],
      "execution_count": 14,
      "outputs": [
        {
          "output_type": "stream",
          "text": [
            "[-10, -9, -8, -7, -6, -5, -4, -3, -2, -1, 0, 1, 2, 3, 4, 5, 6, 7, 8, 9]\n",
            "[1, 2, 3, 4, 5, 6, 7, 8, 9]\n"
          ],
          "name": "stdout"
        }
      ]
    },
    {
      "cell_type": "code",
      "metadata": {
        "id": "6JWjLqBEsfYR",
        "colab_type": "code",
        "colab": {}
      },
      "source": [
        "def find_negative_number(num):\n",
        "  \"\"\"\n",
        "  This function finds negative number is num is negative\n",
        "  \"\"\"\n",
        "  if num < 0 :\n",
        "     return num"
      ],
      "execution_count": 0,
      "outputs": []
    },
    {
      "cell_type": "code",
      "metadata": {
        "id": "tZAnYJiDsz-e",
        "colab_type": "code",
        "colab": {
          "base_uri": "https://localhost:8080/",
          "height": 72
        },
        "outputId": "6d0e8918-badc-45f7-bc27-97b77d0266e2"
      },
      "source": [
        "lst = range(-99,100)\n",
        "print(list(lst))\n",
        "negative_num_list = list(filter(find_negative_number,lst))\n",
        "print(negative_num_list)"
      ],
      "execution_count": 23,
      "outputs": [
        {
          "output_type": "stream",
          "text": [
            "[-99, -98, -97, -96, -95, -94, -93, -92, -91, -90, -89, -88, -87, -86, -85, -84, -83, -82, -81, -80, -79, -78, -77, -76, -75, -74, -73, -72, -71, -70, -69, -68, -67, -66, -65, -64, -63, -62, -61, -60, -59, -58, -57, -56, -55, -54, -53, -52, -51, -50, -49, -48, -47, -46, -45, -44, -43, -42, -41, -40, -39, -38, -37, -36, -35, -34, -33, -32, -31, -30, -29, -28, -27, -26, -25, -24, -23, -22, -21, -20, -19, -18, -17, -16, -15, -14, -13, -12, -11, -10, -9, -8, -7, -6, -5, -4, -3, -2, -1, 0, 1, 2, 3, 4, 5, 6, 7, 8, 9, 10, 11, 12, 13, 14, 15, 16, 17, 18, 19, 20, 21, 22, 23, 24, 25, 26, 27, 28, 29, 30, 31, 32, 33, 34, 35, 36, 37, 38, 39, 40, 41, 42, 43, 44, 45, 46, 47, 48, 49, 50, 51, 52, 53, 54, 55, 56, 57, 58, 59, 60, 61, 62, 63, 64, 65, 66, 67, 68, 69, 70, 71, 72, 73, 74, 75, 76, 77, 78, 79, 80, 81, 82, 83, 84, 85, 86, 87, 88, 89, 90, 91, 92, 93, 94, 95, 96, 97, 98, 99]\n",
            "[-99, -98, -97, -96, -95, -94, -93, -92, -91, -90, -89, -88, -87, -86, -85, -84, -83, -82, -81, -80, -79, -78, -77, -76, -75, -74, -73, -72, -71, -70, -69, -68, -67, -66, -65, -64, -63, -62, -61, -60, -59, -58, -57, -56, -55, -54, -53, -52, -51, -50, -49, -48, -47, -46, -45, -44, -43, -42, -41, -40, -39, -38, -37, -36, -35, -34, -33, -32, -31, -30, -29, -28, -27, -26, -25, -24, -23, -22, -21, -20, -19, -18, -17, -16, -15, -14, -13, -12, -11, -10, -9, -8, -7, -6, -5, -4, -3, -2, -1]\n"
          ],
          "name": "stdout"
        }
      ]
    },
    {
      "cell_type": "markdown",
      "metadata": {
        "id": "i1jHDq_5Dy3Z",
        "colab_type": "text"
      },
      "source": [
        "# isinstance()"
      ]
    },
    {
      "cell_type": "markdown",
      "metadata": {
        "id": "eSZpUEYnDy3b",
        "colab_type": "text"
      },
      "source": [
        "The isinstance() function checks if the object (first argument) is an instance or subclass of classinfo class (second argument)."
      ]
    },
    {
      "cell_type": "markdown",
      "metadata": {
        "id": "JYB_W3vfDy3e",
        "colab_type": "text"
      },
      "source": [
        "syntax: isinstance(object, classinfo)"
      ]
    },
    {
      "cell_type": "code",
      "metadata": {
        "id": "JMAYKKXZDy3f",
        "colab_type": "code",
        "outputId": "f7160f45-6040-4e44-971d-36457d42633e",
        "colab": {
          "base_uri": "https://localhost:8080/",
          "height": 52
        }
      },
      "source": [
        "lst = [1, 2, 3, 4]\n",
        "print(isinstance(lst, list))\n",
        "\n",
        "#try with other datatypes tuple, set\n",
        "t = (1,2,3,4)\n",
        "print(isinstance(t, list))"
      ],
      "execution_count": 26,
      "outputs": [
        {
          "output_type": "stream",
          "text": [
            "True\n",
            "False\n"
          ],
          "name": "stdout"
        }
      ]
    },
    {
      "cell_type": "markdown",
      "metadata": {
        "id": "0SzHgv87Dy3k",
        "colab_type": "text"
      },
      "source": [
        "# map()"
      ]
    },
    {
      "cell_type": "markdown",
      "metadata": {
        "id": "eAqVlxbtDy3m",
        "colab_type": "text"
      },
      "source": [
        "Map applies a function to all the items in an input_list."
      ]
    },
    {
      "cell_type": "markdown",
      "metadata": {
        "id": "oHivUTbRDy3m",
        "colab_type": "text"
      },
      "source": [
        "syntax: map(function_to_apply, list_of_inputs)"
      ]
    },
    {
      "cell_type": "code",
      "metadata": {
        "id": "YrzZKvFMDy3n",
        "colab_type": "code",
        "outputId": "800fc984-295f-48fa-da41-e689d4675cad",
        "colab": {
          "base_uri": "https://localhost:8080/",
          "height": 34
        }
      },
      "source": [
        "numbers = [1, 2, 3, 4]\n",
        "\n",
        "#normal method of computing num^2 for each element in the list.\n",
        "squared = []\n",
        "for num in numbers:\n",
        "    squared.append(num ** 2)\n",
        "\n",
        "print(squared)\n"
      ],
      "execution_count": 27,
      "outputs": [
        {
          "output_type": "stream",
          "text": [
            "[1, 4, 9, 16]\n"
          ],
          "name": "stdout"
        }
      ]
    },
    {
      "cell_type": "code",
      "metadata": {
        "id": "SWKg9_nYDy3r",
        "colab_type": "code",
        "outputId": "942a3c4f-d802-470b-801e-423d57b4d2ed",
        "colab": {
          "base_uri": "https://localhost:8080/",
          "height": 34
        }
      },
      "source": [
        "numbers = [1, 2, 3, 4]\n",
        "\n",
        "def powerOfTwo(num):\n",
        "    return num ** 2\n",
        "\n",
        "#using map() function\n",
        "squared = list(map(powerOfTwo, numbers))\n",
        "print(squared)\n"
      ],
      "execution_count": 28,
      "outputs": [
        {
          "output_type": "stream",
          "text": [
            "[1, 4, 9, 16]\n"
          ],
          "name": "stdout"
        }
      ]
    },
    {
      "cell_type": "code",
      "metadata": {
        "id": "9UveVeODtuRm",
        "colab_type": "code",
        "colab": {
          "base_uri": "https://localhost:8080/",
          "height": 34
        },
        "outputId": "010d3075-cd3a-4b03-d51b-120524faa78d"
      },
      "source": [
        "num = [ 100, 1000, 10000, 100000, 1000000]\n",
        "\n",
        "def div_by_100(num):\n",
        "  return num/100\n",
        "  #usning map\n",
        "divided_num = list(map(div_by_100,num))\n",
        "print(divided_num) "
      ],
      "execution_count": 29,
      "outputs": [
        {
          "output_type": "stream",
          "text": [
            "[1.0, 10.0, 100.0, 1000.0, 10000.0]\n"
          ],
          "name": "stdout"
        }
      ]
    },
    {
      "cell_type": "markdown",
      "metadata": {
        "id": "-ZZiI7m5Dy3t",
        "colab_type": "text"
      },
      "source": [
        "# reduce()"
      ]
    },
    {
      "cell_type": "markdown",
      "metadata": {
        "id": "u_pxdMIcDy3v",
        "colab_type": "text"
      },
      "source": [
        "reduce() function is for performing some computation on a list and returning the result. \n",
        "\n",
        "It applies a rolling computation to sequential pairs of values in a list. "
      ]
    },
    {
      "cell_type": "code",
      "metadata": {
        "id": "jqx-xAf7Dy3w",
        "colab_type": "code",
        "outputId": "b6095a5c-63a6-406f-c368-28643a4f16fb",
        "colab": {
          "base_uri": "https://localhost:8080/",
          "height": 34
        }
      },
      "source": [
        "#product of elemnts in a list\n",
        "product = 1\n",
        "lst = [1, 2, 3, 4]\n",
        "\n",
        "# traditional program without reduce()\n",
        "for num in lst:\n",
        "    product *= num\n",
        "print(product)\n"
      ],
      "execution_count": 30,
      "outputs": [
        {
          "output_type": "stream",
          "text": [
            "24\n"
          ],
          "name": "stdout"
        }
      ]
    },
    {
      "cell_type": "code",
      "metadata": {
        "id": "c-_BNfapDy3y",
        "colab_type": "code",
        "outputId": "b274c3e0-652a-40a9-b34a-543bddc4b081",
        "colab": {
          "base_uri": "https://localhost:8080/",
          "height": 34
        }
      },
      "source": [
        "#with reduce()\n",
        "from functools import reduce # in Python 3.\n",
        "\n",
        "def multiply(x,y):\n",
        "    return x*y;\n",
        "\n",
        "product = reduce(multiply, lst)\n",
        "print(product)\n"
      ],
      "execution_count": 31,
      "outputs": [
        {
          "output_type": "stream",
          "text": [
            "24\n"
          ],
          "name": "stdout"
        }
      ]
    },
    {
      "cell_type": "markdown",
      "metadata": {
        "id": "PlBjfKeLDy33",
        "colab_type": "text"
      },
      "source": [
        "# 2. User-defined Functions"
      ]
    },
    {
      "cell_type": "markdown",
      "metadata": {
        "id": "-jG1cIkIDy33",
        "colab_type": "text"
      },
      "source": [
        "Functions that we define ourselves to do certain specific task are referred as user-defined functions"
      ]
    },
    {
      "cell_type": "markdown",
      "metadata": {
        "id": "U0R-nQZEDy35",
        "colab_type": "text"
      },
      "source": [
        "If we use functions written by others in the form of library, it can be termed as library functions."
      ]
    },
    {
      "cell_type": "markdown",
      "metadata": {
        "id": "qnW4EEEaDy36",
        "colab_type": "text"
      },
      "source": [
        "# Advantages"
      ]
    },
    {
      "cell_type": "markdown",
      "metadata": {
        "id": "BuTGBpe_Dy36",
        "colab_type": "text"
      },
      "source": [
        "1. User-defined functions help to decompose a large program into small segments which makes program easy to understand, maintain and debug.\n",
        "\n",
        "2. If repeated code occurs in a program. Function can be used to include those codes and execute when needed by calling that function.\n",
        "\n",
        "3. Programmars working on large project can divide the workload by making different functions."
      ]
    },
    {
      "cell_type": "markdown",
      "metadata": {
        "id": "bchAt3KsDy37",
        "colab_type": "text"
      },
      "source": [
        "# Example:"
      ]
    },
    {
      "cell_type": "code",
      "metadata": {
        "id": "Bl7T01heDy3-",
        "colab_type": "code",
        "outputId": "d5b714d7-ed65-4f77-adb6-f867edde453a",
        "colab": {
          "base_uri": "https://localhost:8080/",
          "height": 34
        }
      },
      "source": [
        "def product_numbers(a, b):\n",
        "    \"\"\"\n",
        "    this function returns the product of two numbers\n",
        "    \"\"\"\n",
        "    return a*b\n",
        "\n",
        "num1 = 10\n",
        "num2 = 20\n",
        "print(\"Multiplication of {0} and {1} is {2}\".format(num1, num2, product_numbers(num1, num2)))\n"
      ],
      "execution_count": 40,
      "outputs": [
        {
          "output_type": "stream",
          "text": [
            "Multiplication of 10 and 20 is 200\n"
          ],
          "name": "stdout"
        }
      ]
    },
    {
      "cell_type": "markdown",
      "metadata": {
        "id": "3t1WqaakDy4B",
        "colab_type": "text"
      },
      "source": [
        "# Python program to make a simple calculator that can add, subtract, multiply and division"
      ]
    },
    {
      "cell_type": "code",
      "metadata": {
        "id": "7VcPOrmLDy4E",
        "colab_type": "code",
        "outputId": "c6c20e70-7243-4d0b-c80d-1205ac0a8b7e",
        "colab": {
          "base_uri": "https://localhost:8080/",
          "height": 173
        }
      },
      "source": [
        "def add(a, b):\n",
        "    \"\"\"\n",
        "    This function adds two numbers\n",
        "    \"\"\"\n",
        "    return a + b\n",
        "\n",
        "def multiply(a, b):\n",
        "    \"\"\"\n",
        "    This function multiply two numbers\n",
        "    \"\"\"\n",
        "    return a * b\n",
        "\n",
        "def subtract(a, b):\n",
        "    \"\"\"\n",
        "    This function subtract two numbers\n",
        "    \"\"\"\n",
        "    return a - b\n",
        "\n",
        "def division(a, b):\n",
        "    \"\"\"\n",
        "    This function divides two numbers\n",
        "    \"\"\"\n",
        "    return a / b\n",
        "\n",
        "print(\"Select Option\")\n",
        "print(\"1. Addition\")\n",
        "print (\"2. Subtraction\")\n",
        "print (\"3. Multiplication\")\n",
        "print (\"4. Division\")\n",
        "\n",
        "#take input from user\n",
        "choice = int(input(\"Enter choice 1/2/3/4\"))\n",
        "\n",
        "num1 = float(input(\"Enter first number:\"))\n",
        "num2 = float(input(\"Enter second number:\"))\n",
        "if choice == 1:\n",
        "    print(\"Addition of {0} and {1} is {2}\".format(num1, num2, add(num1, num2)))\n",
        "elif choice == 2:\n",
        "    print(\"Subtraction of {0} and {1} is {2}\".format(num1, num2, subtract(num1, num2)))\n",
        "elif choice == 3:\n",
        "    print(\"Multiplication of {0} and {1} is {2}\".format(num1, num2, multiply(num1, num2)))\n",
        "elif choice == 4:\n",
        "    print(\"Division of {0} and {1} is {2}\".format(num1, num2, division(num1, num2)))\n",
        "else:\n",
        "    print(\"Invalid Choice\")"
      ],
      "execution_count": 37,
      "outputs": [
        {
          "output_type": "stream",
          "text": [
            "Select Option\n",
            "1. Addition\n",
            "2. Subtraction\n",
            "3. Multiplication\n",
            "4. Division\n",
            "Enter choice 1/2/3/41\n",
            "Enter first number:24\n",
            "Enter second number:45\n",
            "Addition of 24.0 and 45.0 is 69.0\n"
          ],
          "name": "stdout"
        }
      ]
    },
    {
      "cell_type": "code",
      "metadata": {
        "id": "aQZUmO9xDy4G",
        "colab_type": "code",
        "colab": {}
      },
      "source": [
        ""
      ],
      "execution_count": 0,
      "outputs": []
    }
  ]
}