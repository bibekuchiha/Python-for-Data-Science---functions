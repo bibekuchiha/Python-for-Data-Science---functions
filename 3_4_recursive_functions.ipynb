{
  "nbformat": 4,
  "nbformat_minor": 0,
  "metadata": {
    "colab": {
      "name": "3_4_recursive_functions.ipynb",
      "provenance": [],
      "include_colab_link": true
    },
    "kernelspec": {
      "display_name": "Python 3",
      "language": "python",
      "name": "python3"
    }
  },
  "cells": [
    {
      "cell_type": "markdown",
      "metadata": {
        "id": "view-in-github",
        "colab_type": "text"
      },
      "source": [
        "<a href=\"https://colab.research.google.com/github/bibekuchiha/Python-for-Data-Science---functions/blob/master/3_4_recursive_functions.ipynb\" target=\"_parent\"><img src=\"https://colab.research.google.com/assets/colab-badge.svg\" alt=\"Open In Colab\"/></a>"
      ]
    },
    {
      "cell_type": "markdown",
      "metadata": {
        "id": "2un6HEflRbVI",
        "colab_type": "text"
      },
      "source": [
        "# Recurison"
      ]
    },
    {
      "cell_type": "markdown",
      "metadata": {
        "id": "pouXX8gWRbVJ",
        "colab_type": "text"
      },
      "source": [
        "We know that in Python, a function can call other functions. It is even possible for the function to call itself. These type of construct are termed as recursive functions."
      ]
    },
    {
      "cell_type": "markdown",
      "metadata": {
        "id": "ZVWIU4QvRbVK",
        "colab_type": "text"
      },
      "source": [
        "# Example:"
      ]
    },
    {
      "cell_type": "code",
      "metadata": {
        "id": "mnaRd5dzRbVL",
        "colab_type": "code",
        "outputId": "16474427-6175-476f-c605-bb8e08e053c9",
        "colab": {
          "base_uri": "https://localhost:8080/",
          "height": 34
        }
      },
      "source": [
        "#python program to print factorial of a number using recurion\n",
        "\n",
        "def factorial(num):\n",
        "    \"\"\"\n",
        "    This is a recursive function to find the factorial of a given number\n",
        "    \"\"\"\n",
        "    return 1 if num == 1 else (num * factorial(num-1))\n",
        "\n",
        "num = 9\n",
        "print (\"Factorial of {0} is {1}\".format(num, factorial(num)))\n"
      ],
      "execution_count": 2,
      "outputs": [
        {
          "output_type": "stream",
          "text": [
            "Factorial of 9 is 362880\n"
          ],
          "name": "stdout"
        }
      ]
    },
    {
      "cell_type": "markdown",
      "metadata": {
        "id": "s2ewPFszRbVR",
        "colab_type": "text"
      },
      "source": [
        "# Advantages"
      ]
    },
    {
      "cell_type": "markdown",
      "metadata": {
        "id": "Gl6k7MLLRbVR",
        "colab_type": "text"
      },
      "source": [
        "1. Recursive functions make the code look clean and elegant.\n",
        "\n",
        "2. A complex task can be broken down into simpler sub-problems using recursion.\n",
        "\n",
        "3. Sequence generation is easier with recursion than using some nested iteration.\n"
      ]
    },
    {
      "cell_type": "markdown",
      "metadata": {
        "id": "tZh9p_qrRbVS",
        "colab_type": "text"
      },
      "source": [
        "# Disadvantages"
      ]
    },
    {
      "cell_type": "markdown",
      "metadata": {
        "id": "lzJRnnfdRbVT",
        "colab_type": "text"
      },
      "source": [
        "1. Sometimes the logic behind recursion is hard to follow through.\n",
        "\n",
        "2. Recursive calls are expensive (inefficient) as they take up a lot of memory and time.\n",
        "\n",
        "3. Recursive functions are hard to debug.\n"
      ]
    },
    {
      "cell_type": "markdown",
      "metadata": {
        "id": "wSEYBp_BRbVU",
        "colab_type": "text"
      },
      "source": [
        "# Python program to display the fibonacci sequence up to n-th term using recursive function"
      ]
    },
    {
      "cell_type": "code",
      "metadata": {
        "id": "598cYHQ3RbVW",
        "colab_type": "code",
        "outputId": "9abe7b83-fc46-4032-8642-971ab1eabce1",
        "colab": {
          "base_uri": "https://localhost:8080/",
          "height": 208
        }
      },
      "source": [
        "def fibonacci(num):\n",
        "    \"\"\"\n",
        "    Recursive function to print fibonacci sequence\n",
        "    \"\"\"\n",
        "    return num if num <= 1 else fibonacci(num-1) + fibonacci(num-2)\n",
        "\n",
        "nterms = 10\n",
        "print(\"Fibonacci sequence\")\n",
        "for num in range(nterms):\n",
        "    print(fibonacci(num))"
      ],
      "execution_count": 3,
      "outputs": [
        {
          "output_type": "stream",
          "text": [
            "Fibonacci sequence\n",
            "0\n",
            "1\n",
            "1\n",
            "2\n",
            "3\n",
            "5\n",
            "8\n",
            "13\n",
            "21\n",
            "34\n"
          ],
          "name": "stdout"
        }
      ]
    },
    {
      "cell_type": "code",
      "metadata": {
        "id": "lzigbouGRbVa",
        "colab_type": "code",
        "colab": {}
      },
      "source": [
        ""
      ],
      "execution_count": 0,
      "outputs": []
    }
  ]
}