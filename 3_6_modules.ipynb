{
  "nbformat": 4,
  "nbformat_minor": 0,
  "metadata": {
    "kernelspec": {
      "display_name": "Python 3",
      "language": "python",
      "name": "python3"
    },
    "language_info": {
      "codemirror_mode": {
        "name": "ipython",
        "version": 3
      },
      "file_extension": ".py",
      "mimetype": "text/x-python",
      "name": "python",
      "nbconvert_exporter": "python",
      "pygments_lexer": "ipython3",
      "version": "3.6.1"
    },
    "colab": {
      "name": "3_6_modules.ipynb",
      "provenance": [],
      "include_colab_link": true
    }
  },
  "cells": [
    {
      "cell_type": "markdown",
      "metadata": {
        "id": "view-in-github",
        "colab_type": "text"
      },
      "source": [
        "<a href=\"https://colab.research.google.com/github/bibekuchiha/Python-for-Data-Science---functions/blob/master/3_6_modules.ipynb\" target=\"_parent\"><img src=\"https://colab.research.google.com/assets/colab-badge.svg\" alt=\"Open In Colab\"/></a>"
      ]
    },
    {
      "cell_type": "markdown",
      "metadata": {
        "id": "NDrXKN-NHeYR",
        "colab_type": "text"
      },
      "source": [
        "# Modules"
      ]
    },
    {
      "cell_type": "markdown",
      "metadata": {
        "id": "i0AVpPtvHeYU",
        "colab_type": "text"
      },
      "source": [
        "Modules refer to a file containing Python statements and definitions.\n",
        "\n",
        "A file containing Python code, for e.g.: abc.py, is called a module and its module name would be \"abc\"."
      ]
    },
    {
      "cell_type": "markdown",
      "metadata": {
        "id": "Cncmoy9XHeYW",
        "colab_type": "text"
      },
      "source": [
        "We use modules to break down large programs into small manageable and organized files. Furthermore, modules provide reusability of code.\n",
        "\n",
        "We can define our most used functions in a module and import it, instead of copying their definitions into different programs."
      ]
    },
    {
      "cell_type": "markdown",
      "metadata": {
        "id": "OMq5zEJZHeYY",
        "colab_type": "text"
      },
      "source": [
        "# How to import a module?"
      ]
    },
    {
      "cell_type": "markdown",
      "metadata": {
        "id": "-BZo1veLHeYa",
        "colab_type": "text"
      },
      "source": [
        "We use the import keyword to do this."
      ]
    },
    {
      "cell_type": "code",
      "metadata": {
        "id": "LkdtsKI-HeYb",
        "colab_type": "code",
        "colab": {}
      },
      "source": [
        "import example #imported example module\n"
      ],
      "execution_count": 0,
      "outputs": []
    },
    {
      "cell_type": "markdown",
      "metadata": {
        "id": "8QYfvfCiHeYh",
        "colab_type": "text"
      },
      "source": [
        "Using the module name we can access the function using dot (.) operation."
      ]
    },
    {
      "cell_type": "code",
      "metadata": {
        "id": "4aS7F29GHeYk",
        "colab_type": "code",
        "outputId": "6283c968-e7a6-4450-de6a-94abff22feff",
        "colab": {}
      },
      "source": [
        "example.add(10, 20)\n"
      ],
      "execution_count": 0,
      "outputs": [
        {
          "output_type": "execute_result",
          "data": {
            "text/plain": [
              "30"
            ]
          },
          "metadata": {
            "tags": []
          },
          "execution_count": 3
        }
      ]
    },
    {
      "cell_type": "markdown",
      "metadata": {
        "id": "UzrMkOH9HeYs",
        "colab_type": "text"
      },
      "source": [
        "Python has a lot of standard modules available.\n",
        "\n",
        "https://docs.python.org/3/py-modindex.html "
      ]
    },
    {
      "cell_type": "markdown",
      "metadata": {
        "id": "k-zR_tU7HeYs",
        "colab_type": "text"
      },
      "source": [
        "# Examples:"
      ]
    },
    {
      "cell_type": "code",
      "metadata": {
        "id": "dRUqBrXjHeYt",
        "colab_type": "code",
        "outputId": "add83409-8085-4540-b91b-be5580a6a8c3",
        "colab": {}
      },
      "source": [
        "import math\n",
        "print(math.pi)\n"
      ],
      "execution_count": 0,
      "outputs": [
        {
          "output_type": "stream",
          "text": [
            "3.141592653589793\n"
          ],
          "name": "stdout"
        }
      ]
    },
    {
      "cell_type": "code",
      "metadata": {
        "id": "wr-Jyr-cHeY1",
        "colab_type": "code",
        "outputId": "050c2dce-1008-4f8c-aaad-f52e57f4f2be",
        "colab": {
          "base_uri": "https://localhost:8080/",
          "height": 34
        }
      },
      "source": [
        "import datetime\n",
        "datetime.datetime.now()\n"
      ],
      "execution_count": 1,
      "outputs": [
        {
          "output_type": "execute_result",
          "data": {
            "text/plain": [
              "datetime.datetime(2020, 6, 12, 3, 18, 46, 218736)"
            ]
          },
          "metadata": {
            "tags": []
          },
          "execution_count": 1
        }
      ]
    },
    {
      "cell_type": "markdown",
      "metadata": {
        "id": "34mCV3oJHeY4",
        "colab_type": "text"
      },
      "source": [
        "# import with renaming"
      ]
    },
    {
      "cell_type": "code",
      "metadata": {
        "id": "BljTPvmRHeY5",
        "colab_type": "code",
        "outputId": "c1213478-fa22-4cc8-cc8a-d6073e5afb1d",
        "colab": {}
      },
      "source": [
        "import math as m\n",
        "print(m.pi)\n"
      ],
      "execution_count": 0,
      "outputs": [
        {
          "output_type": "stream",
          "text": [
            "3.141592653589793\n"
          ],
          "name": "stdout"
        }
      ]
    },
    {
      "cell_type": "markdown",
      "metadata": {
        "id": "Yck3dGWaHeY-",
        "colab_type": "text"
      },
      "source": [
        "# from...import statement"
      ]
    },
    {
      "cell_type": "markdown",
      "metadata": {
        "id": "PgxZkgecHeY_",
        "colab_type": "text"
      },
      "source": [
        "We can import specific names form a module without importing the module as a whole."
      ]
    },
    {
      "cell_type": "code",
      "metadata": {
        "id": "SAgwJxMuHeZA",
        "colab_type": "code",
        "outputId": "c9ca9fae-3553-4c03-ece2-0f34a411bc16",
        "colab": {
          "base_uri": "https://localhost:8080/",
          "height": 34
        }
      },
      "source": [
        "from datetime import datetime \n",
        "datetime.now()\n"
      ],
      "execution_count": 2,
      "outputs": [
        {
          "output_type": "execute_result",
          "data": {
            "text/plain": [
              "datetime.datetime(2020, 6, 12, 3, 18, 46, 608752)"
            ]
          },
          "metadata": {
            "tags": []
          },
          "execution_count": 2
        }
      ]
    },
    {
      "cell_type": "markdown",
      "metadata": {
        "id": "3FKKbMKCHeZL",
        "colab_type": "text"
      },
      "source": [
        "# import all names"
      ]
    },
    {
      "cell_type": "code",
      "metadata": {
        "id": "OvEe2dxZHeZM",
        "colab_type": "code",
        "outputId": "42a14832-f267-4af1-b712-79c1d099a760",
        "colab": {}
      },
      "source": [
        "from math import *\n",
        "print(\"Value of PI is \" + str(pi))\n"
      ],
      "execution_count": 0,
      "outputs": [
        {
          "output_type": "stream",
          "text": [
            "Value of PI is 3.141592653589793\n"
          ],
          "name": "stdout"
        }
      ]
    },
    {
      "cell_type": "markdown",
      "metadata": {
        "id": "dPVCLPyQHeZR",
        "colab_type": "text"
      },
      "source": [
        "# dir() built in function"
      ]
    },
    {
      "cell_type": "markdown",
      "metadata": {
        "id": "EPRn9wTiHeZT",
        "colab_type": "text"
      },
      "source": [
        "We can use the dir() function to find out names that are defined inside a module."
      ]
    },
    {
      "cell_type": "code",
      "metadata": {
        "id": "T9PeK-KxHeZX",
        "colab_type": "code",
        "outputId": "ecdf1d42-e747-4e27-9a5a-5811ea885c97",
        "colab": {}
      },
      "source": [
        "dir(example)\n"
      ],
      "execution_count": 0,
      "outputs": [
        {
          "output_type": "execute_result",
          "data": {
            "text/plain": [
              "['__builtins__',\n",
              " '__cached__',\n",
              " '__doc__',\n",
              " '__file__',\n",
              " '__loader__',\n",
              " '__name__',\n",
              " '__package__',\n",
              " '__spec__',\n",
              " 'add']"
            ]
          },
          "metadata": {
            "tags": []
          },
          "execution_count": 11
        }
      ]
    },
    {
      "cell_type": "code",
      "metadata": {
        "id": "1vvA0aSwHeZb",
        "colab_type": "code",
        "outputId": "61b9e1ff-5334-4103-8a62-b4e40ae61002",
        "colab": {}
      },
      "source": [
        "print(example.add.__doc__)\n"
      ],
      "execution_count": 0,
      "outputs": [
        {
          "output_type": "stream",
          "text": [
            "\n",
            "    This program adds two numbers and return the result\n",
            "    \n"
          ],
          "name": "stdout"
        }
      ]
    }
  ]
}