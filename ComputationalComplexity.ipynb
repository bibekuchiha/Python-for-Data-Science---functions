{
  "nbformat": 4,
  "nbformat_minor": 0,
  "metadata": {
    "colab": {
      "name": "ComputationalComplexity.ipynb",
      "provenance": [],
      "include_colab_link": true
    },
    "kernelspec": {
      "display_name": "Python 3",
      "language": "python",
      "name": "python3"
    }
  },
  "cells": [
    {
      "cell_type": "markdown",
      "metadata": {
        "id": "view-in-github",
        "colab_type": "text"
      },
      "source": [
        "<a href=\"https://colab.research.google.com/github/bibekuchiha/Python-for-Data-Science---functions/blob/master/ComputationalComplexity.ipynb\" target=\"_parent\"><img src=\"https://colab.research.google.com/assets/colab-badge.svg\" alt=\"Open In Colab\"/></a>"
      ]
    },
    {
      "cell_type": "code",
      "metadata": {
        "id": "bZw5VY9fXvdu",
        "colab_type": "code",
        "outputId": "adb2efef-d20f-42c4-ce78-657559b3635c",
        "colab": {
          "base_uri": "https://localhost:8080/",
          "height": 1000
        }
      },
      "source": [
        "import numpy as np\n",
        "import random\n",
        "\n",
        "lst = list(range(100))\n",
        "random.shuffle(lst)\n",
        "\n",
        "lst"
      ],
      "execution_count": 3,
      "outputs": [
        {
          "output_type": "execute_result",
          "data": {
            "text/plain": [
              "[53,\n",
              " 64,\n",
              " 83,\n",
              " 5,\n",
              " 28,\n",
              " 48,\n",
              " 90,\n",
              " 95,\n",
              " 39,\n",
              " 93,\n",
              " 86,\n",
              " 92,\n",
              " 41,\n",
              " 58,\n",
              " 81,\n",
              " 30,\n",
              " 74,\n",
              " 15,\n",
              " 94,\n",
              " 91,\n",
              " 96,\n",
              " 4,\n",
              " 78,\n",
              " 84,\n",
              " 47,\n",
              " 19,\n",
              " 89,\n",
              " 51,\n",
              " 46,\n",
              " 0,\n",
              " 73,\n",
              " 40,\n",
              " 98,\n",
              " 62,\n",
              " 44,\n",
              " 1,\n",
              " 29,\n",
              " 26,\n",
              " 61,\n",
              " 54,\n",
              " 8,\n",
              " 33,\n",
              " 7,\n",
              " 14,\n",
              " 12,\n",
              " 27,\n",
              " 31,\n",
              " 66,\n",
              " 87,\n",
              " 35,\n",
              " 69,\n",
              " 42,\n",
              " 68,\n",
              " 23,\n",
              " 57,\n",
              " 50,\n",
              " 79,\n",
              " 2,\n",
              " 80,\n",
              " 75,\n",
              " 55,\n",
              " 88,\n",
              " 6,\n",
              " 32,\n",
              " 67,\n",
              " 17,\n",
              " 71,\n",
              " 45,\n",
              " 34,\n",
              " 16,\n",
              " 97,\n",
              " 24,\n",
              " 9,\n",
              " 20,\n",
              " 11,\n",
              " 82,\n",
              " 60,\n",
              " 3,\n",
              " 43,\n",
              " 56,\n",
              " 22,\n",
              " 49,\n",
              " 25,\n",
              " 65,\n",
              " 59,\n",
              " 21,\n",
              " 13,\n",
              " 52,\n",
              " 18,\n",
              " 72,\n",
              " 38,\n",
              " 85,\n",
              " 63,\n",
              " 77,\n",
              " 76,\n",
              " 99,\n",
              " 36,\n",
              " 10,\n",
              " 70,\n",
              " 37]"
            ]
          },
          "metadata": {
            "tags": []
          },
          "execution_count": 3
        }
      ]
    },
    {
      "cell_type": "code",
      "metadata": {
        "id": "QBhWRfIaXvd3",
        "colab_type": "code",
        "outputId": "a875890a-608e-4bbf-c15d-aa7691b127c8",
        "colab": {
          "base_uri": "https://localhost:8080/",
          "height": 34
        }
      },
      "source": [
        "# search for an elemnt q in the list: O(n) where n is the length of the list\n",
        "q = 43\n",
        "isFound=False;\n",
        "for ele in lst:\n",
        "    if ele==31:\n",
        "        print(\"Found\")\n",
        "        isFound=True\n",
        "        break;\n",
        "if isFound == False:\n",
        "    print(\"Not Found\")\n",
        "    \n",
        "    \n"
      ],
      "execution_count": 4,
      "outputs": [
        {
          "output_type": "stream",
          "text": [
            "Found\n"
          ],
          "name": "stdout"
        }
      ]
    },
    {
      "cell_type": "code",
      "metadata": {
        "id": "JvSHC5wDXvd8",
        "colab_type": "code",
        "outputId": "021fd0af-2f68-47d4-d8b1-3904360fc3bd",
        "colab": {
          "base_uri": "https://localhost:8080/",
          "height": 34
        }
      },
      "source": [
        "#What if the list is sorted? Can we search faster?\n",
        "# Show O(log n)\n",
        "\n",
        "import math\n",
        "\n",
        "#Source: http://www.geeksforgeeks.org/binary-search/ \n",
        "#Returns index of x in arr if present, else -1\n",
        "def binarySearch (arr, lst, r, x):\n",
        " \n",
        "    # Check base case\n",
        "    if r >= lst:\n",
        " \n",
        "        mid = lst + math.floor((r - lst)/2)\n",
        " \n",
        "        # If element is present at the middle itself\n",
        "        if arr[mid] == x:\n",
        "            return mid\n",
        "         \n",
        "        # If element is smaller than mid, then it can only\n",
        "        # be present in left subarray\n",
        "        elif arr[mid] > x:\n",
        "            return binarySearch(arr, lst, mid-1, x)\n",
        " \n",
        "        # Else the element can only be present in right subarray\n",
        "        else:\n",
        "            return binarySearch(arr, mid+1, r, x)\n",
        " \n",
        "    else:\n",
        "        # Element is not present in the array\n",
        "        return -1\n",
        "\n",
        "\n",
        "lst.sort();\n",
        "arr = lst;\n",
        "q =49;\n",
        "binarySearch(arr,0,len(arr)-1,q)\n",
        "\n"
      ],
      "execution_count": 9,
      "outputs": [
        {
          "output_type": "execute_result",
          "data": {
            "text/plain": [
              "49"
            ]
          },
          "metadata": {
            "tags": []
          },
          "execution_count": 9
        }
      ]
    },
    {
      "cell_type": "code",
      "metadata": {
        "id": "N43KYlGTXveA",
        "colab_type": "code",
        "outputId": "35d8f21e-c7bc-47f5-9edf-898766e6c69a",
        "colab": {
          "base_uri": "https://localhost:8080/",
          "height": 903
        }
      },
      "source": [
        "# Find elements common in two lists:\n",
        "l1 = list(range(100))\n",
        "random.shuffle(l1)\n",
        "\n",
        "\n",
        "l2 = list(range(50))\n",
        "random.shuffle(l2)\n",
        "\n",
        "# find common elements : O(n*m)\n",
        "cnt=0;\n",
        "for i in l1:\n",
        "    for j in l2:\n",
        "        if i==j:\n",
        "            print(i)\n",
        "            cnt += 1;\n",
        "print(\"Number of common elements:\", cnt)                      "
      ],
      "execution_count": 10,
      "outputs": [
        {
          "output_type": "stream",
          "text": [
            "28\n",
            "46\n",
            "40\n",
            "38\n",
            "43\n",
            "44\n",
            "9\n",
            "41\n",
            "8\n",
            "19\n",
            "35\n",
            "30\n",
            "48\n",
            "2\n",
            "20\n",
            "18\n",
            "34\n",
            "22\n",
            "39\n",
            "24\n",
            "16\n",
            "47\n",
            "7\n",
            "42\n",
            "31\n",
            "32\n",
            "36\n",
            "26\n",
            "49\n",
            "13\n",
            "0\n",
            "21\n",
            "1\n",
            "10\n",
            "33\n",
            "6\n",
            "15\n",
            "23\n",
            "29\n",
            "17\n",
            "3\n",
            "11\n",
            "45\n",
            "27\n",
            "12\n",
            "5\n",
            "25\n",
            "4\n",
            "37\n",
            "14\n",
            "Number of common elements: 50\n"
          ],
          "name": "stdout"
        }
      ]
    },
    {
      "cell_type": "code",
      "metadata": {
        "id": "kIQGrDDlXveD",
        "colab_type": "code",
        "outputId": "f600062b-32d4-4049-9770-38840b77b201",
        "colab": {
          "base_uri": "https://localhost:8080/",
          "height": 903
        }
      },
      "source": [
        "# Find elements common in two lists:\n",
        "l1 = list(range(100))\n",
        "random.shuffle(l1)\n",
        "\n",
        "\n",
        "l2 = list(range(50))\n",
        "random.shuffle(l2)\n",
        "\n",
        "# find common elemnts in lists in O(n) time and O(m) space if m<n\n",
        "\n",
        "## add all elements in the smallest list into a hashtable/Dict: O(m) space\n",
        "smallList = {}\n",
        "for ele in l2:\n",
        "    smallList[ele] = 1; # any value is OK. Key is important\n",
        "    \n",
        "# Now find common element \n",
        "cnt=0;\n",
        "for i in l1:\n",
        "    if smallList.get(i) != None: # search happens in constant time.\n",
        "        print(i);\n",
        "        cnt += 1;\n",
        "print(\"Number of common elements:\", cnt)                      "
      ],
      "execution_count": 11,
      "outputs": [
        {
          "output_type": "stream",
          "text": [
            "2\n",
            "33\n",
            "49\n",
            "25\n",
            "8\n",
            "12\n",
            "32\n",
            "11\n",
            "6\n",
            "10\n",
            "28\n",
            "31\n",
            "27\n",
            "41\n",
            "20\n",
            "47\n",
            "35\n",
            "40\n",
            "46\n",
            "24\n",
            "30\n",
            "0\n",
            "9\n",
            "42\n",
            "16\n",
            "38\n",
            "5\n",
            "19\n",
            "18\n",
            "48\n",
            "22\n",
            "36\n",
            "34\n",
            "17\n",
            "45\n",
            "4\n",
            "43\n",
            "14\n",
            "29\n",
            "7\n",
            "44\n",
            "15\n",
            "26\n",
            "3\n",
            "13\n",
            "21\n",
            "1\n",
            "23\n",
            "39\n",
            "37\n",
            "Number of common elements: 50\n"
          ],
          "name": "stdout"
        }
      ]
    },
    {
      "cell_type": "code",
      "metadata": {
        "id": "6aVBXWL0XveG",
        "colab_type": "code",
        "colab": {}
      },
      "source": [
        ""
      ],
      "execution_count": 0,
      "outputs": []
    }
  ]
}